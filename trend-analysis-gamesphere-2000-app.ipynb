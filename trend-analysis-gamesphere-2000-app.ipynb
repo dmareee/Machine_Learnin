{
 "cells": [
  {
   "cell_type": "code",
   "execution_count": 1,
   "id": "89b56944",
   "metadata": {
    "_cell_guid": "b1076dfc-b9ad-4769-8c92-a6c4dae69d19",
    "_uuid": "8f2839f25d086af736a60e9eeb907d3b93b6e0e5",
    "execution": {
     "iopub.execute_input": "2024-03-29T17:02:49.052776Z",
     "iopub.status.busy": "2024-03-29T17:02:49.052077Z",
     "iopub.status.idle": "2024-03-29T17:02:51.648521Z",
     "shell.execute_reply": "2024-03-29T17:02:51.647241Z"
    },
    "papermill": {
     "duration": 2.605865,
     "end_time": "2024-03-29T17:02:51.651277",
     "exception": false,
     "start_time": "2024-03-29T17:02:49.045412",
     "status": "completed"
    },
    "tags": []
   },
   "outputs": [
    {
     "name": "stdout",
     "output_type": "stream",
     "text": [
      "/kaggle/input/gamesphere-2000-app-store-insights-and-ratings/2000_games_appstore.csv\n"
     ]
    }
   ],
   "source": [
    "# This Python 3 environment comes with many helpful analytics libraries installed\n",
    "# It is defined by the kaggle/python Docker image: https://github.com/kaggle/docker-python\n",
    "# For example, here's several helpful packages to load\n",
    "\n",
    "import numpy as np # linear algebra\n",
    "import pandas as pd # data processing, CSV file I/O (e.g. pd.read_csv)\n",
    "import seaborn as sns\n",
    "import matplotlib.pyplot as plt\n",
    "import numpy as np\n",
    "\n",
    "# Input data files are available in the read-only \"../input/\" directory\n",
    "# For example, running this (by clicking run or pressing Shift+Enter) will list all files under the input directory\n",
    "\n",
    "import os\n",
    "for dirname, _, filenames in os.walk('/kaggle/input'):\n",
    "    for filename in filenames:\n",
    "        print(os.path.join(dirname, filename))\n",
    "\n",
    "# You can write up to 20GB to the current directory (/kaggle/working/) that gets preserved as output when you create a version using \"Save & Run All\" \n",
    "# You can also write temporary files to /kaggle/temp/, but they won't be saved outside of the current session"
   ]
  },
  {
   "cell_type": "markdown",
   "id": "5b2b4004",
   "metadata": {
    "papermill": {
     "duration": 0.003992,
     "end_time": "2024-03-29T17:02:51.660106",
     "exception": false,
     "start_time": "2024-03-29T17:02:51.656114",
     "status": "completed"
    },
    "tags": []
   },
   "source": [
    "## Mount Data"
   ]
  },
  {
   "cell_type": "code",
   "execution_count": 2,
   "id": "dddff9e3",
   "metadata": {
    "execution": {
     "iopub.execute_input": "2024-03-29T17:02:51.670582Z",
     "iopub.status.busy": "2024-03-29T17:02:51.669962Z",
     "iopub.status.idle": "2024-03-29T17:02:51.836400Z",
     "shell.execute_reply": "2024-03-29T17:02:51.835576Z"
    },
    "papermill": {
     "duration": 0.174393,
     "end_time": "2024-03-29T17:02:51.838712",
     "exception": false,
     "start_time": "2024-03-29T17:02:51.664319",
     "status": "completed"
    },
    "tags": []
   },
   "outputs": [
    {
     "data": {
      "text/html": [
       "<div>\n",
       "<style scoped>\n",
       "    .dataframe tbody tr th:only-of-type {\n",
       "        vertical-align: middle;\n",
       "    }\n",
       "\n",
       "    .dataframe tbody tr th {\n",
       "        vertical-align: top;\n",
       "    }\n",
       "\n",
       "    .dataframe thead th {\n",
       "        text-align: right;\n",
       "    }\n",
       "</style>\n",
       "<table border=\"1\" class=\"dataframe\">\n",
       "  <thead>\n",
       "    <tr style=\"text-align: right;\">\n",
       "      <th></th>\n",
       "      <th>artistName</th>\n",
       "      <th>averageUserRating</th>\n",
       "      <th>averageUserRatingForCurrentVersion</th>\n",
       "      <th>contentAdvisoryRating</th>\n",
       "      <th>description</th>\n",
       "      <th>fileSizeBytes</th>\n",
       "      <th>isGameCenterEnabled</th>\n",
       "      <th>minimumOsVersion</th>\n",
       "      <th>price</th>\n",
       "      <th>primaryGenreId</th>\n",
       "      <th>releaseDate</th>\n",
       "      <th>trackName</th>\n",
       "      <th>userRatingCount</th>\n",
       "      <th>releaseNotes</th>\n",
       "    </tr>\n",
       "  </thead>\n",
       "  <tbody>\n",
       "    <tr>\n",
       "      <th>0</th>\n",
       "      <td>Ynfo SAS di Graziano Gennaro &amp; Co.</td>\n",
       "      <td>4.67589</td>\n",
       "      <td>4.67589</td>\n",
       "      <td>4+</td>\n",
       "      <td>Sticker GO! is the first app that helps you co...</td>\n",
       "      <td>36927488</td>\n",
       "      <td>False</td>\n",
       "      <td>12.0</td>\n",
       "      <td>0.0</td>\n",
       "      <td>6014</td>\n",
       "      <td>2024-02-08T08:00:00Z</td>\n",
       "      <td>Sticker GO!</td>\n",
       "      <td>253</td>\n",
       "      <td>Performance improvement</td>\n",
       "    </tr>\n",
       "    <tr>\n",
       "      <th>1</th>\n",
       "      <td>Hungry Studio</td>\n",
       "      <td>4.86087</td>\n",
       "      <td>4.86087</td>\n",
       "      <td>12+</td>\n",
       "      <td>Block Blast: A perfect mix of block and jigsaw...</td>\n",
       "      <td>154926080</td>\n",
       "      <td>True</td>\n",
       "      <td>12.0</td>\n",
       "      <td>0.0</td>\n",
       "      <td>6014</td>\n",
       "      <td>2022-04-03T07:00:00Z</td>\n",
       "      <td>Block Blast！</td>\n",
       "      <td>253100</td>\n",
       "      <td>- Bug fixes and performance improvements.\\n- S...</td>\n",
       "    </tr>\n",
       "    <tr>\n",
       "      <th>2</th>\n",
       "      <td>Scopely, Inc.</td>\n",
       "      <td>4.81924</td>\n",
       "      <td>4.81924</td>\n",
       "      <td>9+</td>\n",
       "      <td>Hit GO! Roll the dice! Earn MONOPOLY money, in...</td>\n",
       "      <td>249300992</td>\n",
       "      <td>True</td>\n",
       "      <td>13.0</td>\n",
       "      <td>0.0</td>\n",
       "      <td>6014</td>\n",
       "      <td>2023-04-11T07:00:00Z</td>\n",
       "      <td>MONOPOLY GO!</td>\n",
       "      <td>2076657</td>\n",
       "      <td>We've got a WILD update for you, Tycoons.\\n\\nG...</td>\n",
       "    </tr>\n",
       "    <tr>\n",
       "      <th>3</th>\n",
       "      <td>ABIGAMES PTE. LTD</td>\n",
       "      <td>4.52683</td>\n",
       "      <td>4.52683</td>\n",
       "      <td>9+</td>\n",
       "      <td>Introducing Wood Nuts &amp; Bolts Puzzle, a captiv...</td>\n",
       "      <td>243209216</td>\n",
       "      <td>False</td>\n",
       "      <td>12.0</td>\n",
       "      <td>0.0</td>\n",
       "      <td>6014</td>\n",
       "      <td>2023-11-22T08:00:00Z</td>\n",
       "      <td>Wood Nuts &amp; Bolts Puzzle</td>\n",
       "      <td>54892</td>\n",
       "      <td>- Update levels.</td>\n",
       "    </tr>\n",
       "    <tr>\n",
       "      <th>4</th>\n",
       "      <td>Lion Studios Plus</td>\n",
       "      <td>4.74130</td>\n",
       "      <td>4.74130</td>\n",
       "      <td>12+</td>\n",
       "      <td>Hexa Sort offers a delightful blend of puzzle ...</td>\n",
       "      <td>323801088</td>\n",
       "      <td>False</td>\n",
       "      <td>12.5</td>\n",
       "      <td>0.0</td>\n",
       "      <td>6014</td>\n",
       "      <td>2023-11-01T07:00:00Z</td>\n",
       "      <td>Hexa Sort</td>\n",
       "      <td>6150</td>\n",
       "      <td>Get ready! The most awaited features are here....</td>\n",
       "    </tr>\n",
       "  </tbody>\n",
       "</table>\n",
       "</div>"
      ],
      "text/plain": [
       "                           artistName  averageUserRating  \\\n",
       "0  Ynfo SAS di Graziano Gennaro & Co.            4.67589   \n",
       "1                       Hungry Studio            4.86087   \n",
       "2                       Scopely, Inc.            4.81924   \n",
       "3                   ABIGAMES PTE. LTD            4.52683   \n",
       "4                   Lion Studios Plus            4.74130   \n",
       "\n",
       "   averageUserRatingForCurrentVersion contentAdvisoryRating  \\\n",
       "0                             4.67589                    4+   \n",
       "1                             4.86087                   12+   \n",
       "2                             4.81924                    9+   \n",
       "3                             4.52683                    9+   \n",
       "4                             4.74130                   12+   \n",
       "\n",
       "                                         description  fileSizeBytes  \\\n",
       "0  Sticker GO! is the first app that helps you co...       36927488   \n",
       "1  Block Blast: A perfect mix of block and jigsaw...      154926080   \n",
       "2  Hit GO! Roll the dice! Earn MONOPOLY money, in...      249300992   \n",
       "3  Introducing Wood Nuts & Bolts Puzzle, a captiv...      243209216   \n",
       "4  Hexa Sort offers a delightful blend of puzzle ...      323801088   \n",
       "\n",
       "   isGameCenterEnabled minimumOsVersion  price  primaryGenreId  \\\n",
       "0                False             12.0    0.0            6014   \n",
       "1                 True             12.0    0.0            6014   \n",
       "2                 True             13.0    0.0            6014   \n",
       "3                False             12.0    0.0            6014   \n",
       "4                False             12.5    0.0            6014   \n",
       "\n",
       "            releaseDate                 trackName  userRatingCount  \\\n",
       "0  2024-02-08T08:00:00Z               Sticker GO!              253   \n",
       "1  2022-04-03T07:00:00Z              Block Blast！           253100   \n",
       "2  2023-04-11T07:00:00Z              MONOPOLY GO!          2076657   \n",
       "3  2023-11-22T08:00:00Z  Wood Nuts & Bolts Puzzle            54892   \n",
       "4  2023-11-01T07:00:00Z                 Hexa Sort             6150   \n",
       "\n",
       "                                        releaseNotes  \n",
       "0                            Performance improvement  \n",
       "1  - Bug fixes and performance improvements.\\n- S...  \n",
       "2  We've got a WILD update for you, Tycoons.\\n\\nG...  \n",
       "3                                   - Update levels.  \n",
       "4  Get ready! The most awaited features are here....  "
      ]
     },
     "execution_count": 2,
     "metadata": {},
     "output_type": "execute_result"
    }
   ],
   "source": [
    "game_set = pd.read_csv(\"/kaggle/input/gamesphere-2000-app-store-insights-and-ratings/2000_games_appstore.csv\")\n",
    "game_set.head(5)"
   ]
  },
  {
   "cell_type": "code",
   "execution_count": 3,
   "id": "0c8733e8",
   "metadata": {
    "execution": {
     "iopub.execute_input": "2024-03-29T17:02:51.850205Z",
     "iopub.status.busy": "2024-03-29T17:02:51.849578Z",
     "iopub.status.idle": "2024-03-29T17:02:51.862243Z",
     "shell.execute_reply": "2024-03-29T17:02:51.861176Z"
    },
    "papermill": {
     "duration": 0.021109,
     "end_time": "2024-03-29T17:02:51.864566",
     "exception": false,
     "start_time": "2024-03-29T17:02:51.843457",
     "status": "completed"
    },
    "tags": []
   },
   "outputs": [
    {
     "data": {
      "text/plain": [
       "artistName                             0\n",
       "averageUserRating                      0\n",
       "averageUserRatingForCurrentVersion     0\n",
       "contentAdvisoryRating                  0\n",
       "description                            0\n",
       "fileSizeBytes                          0\n",
       "isGameCenterEnabled                    0\n",
       "minimumOsVersion                       0\n",
       "price                                 58\n",
       "primaryGenreId                         0\n",
       "releaseDate                            0\n",
       "trackName                              0\n",
       "userRatingCount                        0\n",
       "releaseNotes                          31\n",
       "dtype: int64"
      ]
     },
     "execution_count": 3,
     "metadata": {},
     "output_type": "execute_result"
    }
   ],
   "source": [
    "game_set.isnull().sum()"
   ]
  },
  {
   "cell_type": "code",
   "execution_count": 4,
   "id": "d733af09",
   "metadata": {
    "execution": {
     "iopub.execute_input": "2024-03-29T17:02:51.875954Z",
     "iopub.status.busy": "2024-03-29T17:02:51.875199Z",
     "iopub.status.idle": "2024-03-29T17:02:51.907157Z",
     "shell.execute_reply": "2024-03-29T17:02:51.905971Z"
    },
    "papermill": {
     "duration": 0.040362,
     "end_time": "2024-03-29T17:02:51.909656",
     "exception": false,
     "start_time": "2024-03-29T17:02:51.869294",
     "status": "completed"
    },
    "tags": []
   },
   "outputs": [
    {
     "name": "stdout",
     "output_type": "stream",
     "text": [
      "<class 'pandas.core.frame.DataFrame'>\n",
      "RangeIndex: 2000 entries, 0 to 1999\n",
      "Data columns (total 14 columns):\n",
      " #   Column                              Non-Null Count  Dtype  \n",
      "---  ------                              --------------  -----  \n",
      " 0   artistName                          2000 non-null   object \n",
      " 1   averageUserRating                   2000 non-null   float64\n",
      " 2   averageUserRatingForCurrentVersion  2000 non-null   float64\n",
      " 3   contentAdvisoryRating               2000 non-null   object \n",
      " 4   description                         2000 non-null   object \n",
      " 5   fileSizeBytes                       2000 non-null   int64  \n",
      " 6   isGameCenterEnabled                 2000 non-null   bool   \n",
      " 7   minimumOsVersion                    2000 non-null   object \n",
      " 8   price                               1942 non-null   float64\n",
      " 9   primaryGenreId                      2000 non-null   int64  \n",
      " 10  releaseDate                         2000 non-null   object \n",
      " 11  trackName                           2000 non-null   object \n",
      " 12  userRatingCount                     2000 non-null   int64  \n",
      " 13  releaseNotes                        1969 non-null   object \n",
      "dtypes: bool(1), float64(3), int64(3), object(7)\n",
      "memory usage: 205.2+ KB\n"
     ]
    }
   ],
   "source": [
    "game_set.info()"
   ]
  },
  {
   "cell_type": "code",
   "execution_count": 5,
   "id": "27466710",
   "metadata": {
    "execution": {
     "iopub.execute_input": "2024-03-29T17:02:51.921389Z",
     "iopub.status.busy": "2024-03-29T17:02:51.920974Z",
     "iopub.status.idle": "2024-03-29T17:02:51.929451Z",
     "shell.execute_reply": "2024-03-29T17:02:51.928387Z"
    },
    "papermill": {
     "duration": 0.016864,
     "end_time": "2024-03-29T17:02:51.931557",
     "exception": false,
     "start_time": "2024-03-29T17:02:51.914693",
     "status": "completed"
    },
    "tags": []
   },
   "outputs": [
    {
     "data": {
      "text/plain": [
       "artistName                             object\n",
       "averageUserRating                     float64\n",
       "averageUserRatingForCurrentVersion    float64\n",
       "contentAdvisoryRating                  object\n",
       "description                            object\n",
       "fileSizeBytes                           int64\n",
       "isGameCenterEnabled                      bool\n",
       "minimumOsVersion                       object\n",
       "price                                 float64\n",
       "primaryGenreId                          int64\n",
       "releaseDate                            object\n",
       "trackName                              object\n",
       "userRatingCount                         int64\n",
       "releaseNotes                           object\n",
       "dtype: object"
      ]
     },
     "execution_count": 5,
     "metadata": {},
     "output_type": "execute_result"
    }
   ],
   "source": [
    "game_set.dtypes"
   ]
  },
  {
   "cell_type": "markdown",
   "id": "fe1f7127",
   "metadata": {
    "papermill": {
     "duration": 0.004753,
     "end_time": "2024-03-29T17:02:51.941434",
     "exception": false,
     "start_time": "2024-03-29T17:02:51.936681",
     "status": "completed"
    },
    "tags": []
   },
   "source": [
    "## Trend Analysis: Utilize 'releaseDate' and 'averageUserRating' to identify trends in game popularity and user satisfaction over time."
   ]
  },
  {
   "cell_type": "code",
   "execution_count": 6,
   "id": "a113738c",
   "metadata": {
    "execution": {
     "iopub.execute_input": "2024-03-29T17:02:51.953259Z",
     "iopub.status.busy": "2024-03-29T17:02:51.952818Z",
     "iopub.status.idle": "2024-03-29T17:02:51.982680Z",
     "shell.execute_reply": "2024-03-29T17:02:51.981326Z"
    },
    "papermill": {
     "duration": 0.039027,
     "end_time": "2024-03-29T17:02:51.985597",
     "exception": false,
     "start_time": "2024-03-29T17:02:51.946570",
     "status": "completed"
    },
    "tags": []
   },
   "outputs": [
    {
     "data": {
      "text/html": [
       "<div>\n",
       "<style scoped>\n",
       "    .dataframe tbody tr th:only-of-type {\n",
       "        vertical-align: middle;\n",
       "    }\n",
       "\n",
       "    .dataframe tbody tr th {\n",
       "        vertical-align: top;\n",
       "    }\n",
       "\n",
       "    .dataframe thead th {\n",
       "        text-align: right;\n",
       "    }\n",
       "</style>\n",
       "<table border=\"1\" class=\"dataframe\">\n",
       "  <thead>\n",
       "    <tr style=\"text-align: right;\">\n",
       "      <th></th>\n",
       "      <th>artistName</th>\n",
       "      <th>averageUserRating</th>\n",
       "      <th>averageUserRatingForCurrentVersion</th>\n",
       "      <th>contentAdvisoryRating</th>\n",
       "      <th>description</th>\n",
       "      <th>fileSizeBytes</th>\n",
       "      <th>isGameCenterEnabled</th>\n",
       "      <th>minimumOsVersion</th>\n",
       "      <th>price</th>\n",
       "      <th>primaryGenreId</th>\n",
       "      <th>releaseDate</th>\n",
       "      <th>trackName</th>\n",
       "      <th>userRatingCount</th>\n",
       "      <th>releaseNotes</th>\n",
       "    </tr>\n",
       "  </thead>\n",
       "  <tbody>\n",
       "    <tr>\n",
       "      <th>0</th>\n",
       "      <td>Ynfo SAS di Graziano Gennaro &amp; Co.</td>\n",
       "      <td>4.67589</td>\n",
       "      <td>4.67589</td>\n",
       "      <td>4+</td>\n",
       "      <td>Sticker GO! is the first app that helps you co...</td>\n",
       "      <td>36927488</td>\n",
       "      <td>False</td>\n",
       "      <td>12.0</td>\n",
       "      <td>0.0</td>\n",
       "      <td>6014</td>\n",
       "      <td>2024-02-08 08:00:00+00:00</td>\n",
       "      <td>Sticker GO!</td>\n",
       "      <td>253</td>\n",
       "      <td>Performance improvement</td>\n",
       "    </tr>\n",
       "    <tr>\n",
       "      <th>1</th>\n",
       "      <td>Hungry Studio</td>\n",
       "      <td>4.86087</td>\n",
       "      <td>4.86087</td>\n",
       "      <td>12+</td>\n",
       "      <td>Block Blast: A perfect mix of block and jigsaw...</td>\n",
       "      <td>154926080</td>\n",
       "      <td>True</td>\n",
       "      <td>12.0</td>\n",
       "      <td>0.0</td>\n",
       "      <td>6014</td>\n",
       "      <td>2022-04-03 07:00:00+00:00</td>\n",
       "      <td>Block Blast！</td>\n",
       "      <td>253100</td>\n",
       "      <td>- Bug fixes and performance improvements.\\n- S...</td>\n",
       "    </tr>\n",
       "    <tr>\n",
       "      <th>2</th>\n",
       "      <td>Scopely, Inc.</td>\n",
       "      <td>4.81924</td>\n",
       "      <td>4.81924</td>\n",
       "      <td>9+</td>\n",
       "      <td>Hit GO! Roll the dice! Earn MONOPOLY money, in...</td>\n",
       "      <td>249300992</td>\n",
       "      <td>True</td>\n",
       "      <td>13.0</td>\n",
       "      <td>0.0</td>\n",
       "      <td>6014</td>\n",
       "      <td>2023-04-11 07:00:00+00:00</td>\n",
       "      <td>MONOPOLY GO!</td>\n",
       "      <td>2076657</td>\n",
       "      <td>We've got a WILD update for you, Tycoons.\\n\\nG...</td>\n",
       "    </tr>\n",
       "    <tr>\n",
       "      <th>3</th>\n",
       "      <td>ABIGAMES PTE. LTD</td>\n",
       "      <td>4.52683</td>\n",
       "      <td>4.52683</td>\n",
       "      <td>9+</td>\n",
       "      <td>Introducing Wood Nuts &amp; Bolts Puzzle, a captiv...</td>\n",
       "      <td>243209216</td>\n",
       "      <td>False</td>\n",
       "      <td>12.0</td>\n",
       "      <td>0.0</td>\n",
       "      <td>6014</td>\n",
       "      <td>2023-11-22 08:00:00+00:00</td>\n",
       "      <td>Wood Nuts &amp; Bolts Puzzle</td>\n",
       "      <td>54892</td>\n",
       "      <td>- Update levels.</td>\n",
       "    </tr>\n",
       "    <tr>\n",
       "      <th>4</th>\n",
       "      <td>Lion Studios Plus</td>\n",
       "      <td>4.74130</td>\n",
       "      <td>4.74130</td>\n",
       "      <td>12+</td>\n",
       "      <td>Hexa Sort offers a delightful blend of puzzle ...</td>\n",
       "      <td>323801088</td>\n",
       "      <td>False</td>\n",
       "      <td>12.5</td>\n",
       "      <td>0.0</td>\n",
       "      <td>6014</td>\n",
       "      <td>2023-11-01 07:00:00+00:00</td>\n",
       "      <td>Hexa Sort</td>\n",
       "      <td>6150</td>\n",
       "      <td>Get ready! The most awaited features are here....</td>\n",
       "    </tr>\n",
       "  </tbody>\n",
       "</table>\n",
       "</div>"
      ],
      "text/plain": [
       "                           artistName  averageUserRating  \\\n",
       "0  Ynfo SAS di Graziano Gennaro & Co.            4.67589   \n",
       "1                       Hungry Studio            4.86087   \n",
       "2                       Scopely, Inc.            4.81924   \n",
       "3                   ABIGAMES PTE. LTD            4.52683   \n",
       "4                   Lion Studios Plus            4.74130   \n",
       "\n",
       "   averageUserRatingForCurrentVersion contentAdvisoryRating  \\\n",
       "0                             4.67589                    4+   \n",
       "1                             4.86087                   12+   \n",
       "2                             4.81924                    9+   \n",
       "3                             4.52683                    9+   \n",
       "4                             4.74130                   12+   \n",
       "\n",
       "                                         description  fileSizeBytes  \\\n",
       "0  Sticker GO! is the first app that helps you co...       36927488   \n",
       "1  Block Blast: A perfect mix of block and jigsaw...      154926080   \n",
       "2  Hit GO! Roll the dice! Earn MONOPOLY money, in...      249300992   \n",
       "3  Introducing Wood Nuts & Bolts Puzzle, a captiv...      243209216   \n",
       "4  Hexa Sort offers a delightful blend of puzzle ...      323801088   \n",
       "\n",
       "   isGameCenterEnabled minimumOsVersion  price  primaryGenreId  \\\n",
       "0                False             12.0    0.0            6014   \n",
       "1                 True             12.0    0.0            6014   \n",
       "2                 True             13.0    0.0            6014   \n",
       "3                False             12.0    0.0            6014   \n",
       "4                False             12.5    0.0            6014   \n",
       "\n",
       "                releaseDate                 trackName  userRatingCount  \\\n",
       "0 2024-02-08 08:00:00+00:00               Sticker GO!              253   \n",
       "1 2022-04-03 07:00:00+00:00              Block Blast！           253100   \n",
       "2 2023-04-11 07:00:00+00:00              MONOPOLY GO!          2076657   \n",
       "3 2023-11-22 08:00:00+00:00  Wood Nuts & Bolts Puzzle            54892   \n",
       "4 2023-11-01 07:00:00+00:00                 Hexa Sort             6150   \n",
       "\n",
       "                                        releaseNotes  \n",
       "0                            Performance improvement  \n",
       "1  - Bug fixes and performance improvements.\\n- S...  \n",
       "2  We've got a WILD update for you, Tycoons.\\n\\nG...  \n",
       "3                                   - Update levels.  \n",
       "4  Get ready! The most awaited features are here....  "
      ]
     },
     "execution_count": 6,
     "metadata": {},
     "output_type": "execute_result"
    }
   ],
   "source": [
    "gameset_cleaned = game_set.copy()\n",
    "gameset_cleaned['releaseDate'] = pd.to_datetime(gameset_cleaned['releaseDate'])\n",
    "gameset_cleaned.head()"
   ]
  },
  {
   "cell_type": "code",
   "execution_count": 7,
   "id": "90d6b3db",
   "metadata": {
    "execution": {
     "iopub.execute_input": "2024-03-29T17:02:51.998467Z",
     "iopub.status.busy": "2024-03-29T17:02:51.998047Z",
     "iopub.status.idle": "2024-03-29T17:02:52.003500Z",
     "shell.execute_reply": "2024-03-29T17:02:52.002205Z"
    },
    "papermill": {
     "duration": 0.014878,
     "end_time": "2024-03-29T17:02:52.005983",
     "exception": false,
     "start_time": "2024-03-29T17:02:51.991105",
     "status": "completed"
    },
    "tags": []
   },
   "outputs": [],
   "source": [
    "#df.loc[ df[“column_name”] == “some_value”, “column_name”] = “value”\n",
    "#Syntax: df[‘column_name’].mask( df[‘column_name’] == ‘some_value’, value , inplace=True )\n",
    "\n",
    "#Parameters:\n",
    "#some_value = The value that needs to be replaced\n",
    "#value = The value that should be placed instead."
   ]
  },
  {
   "cell_type": "code",
   "execution_count": 8,
   "id": "9edf1394",
   "metadata": {
    "execution": {
     "iopub.execute_input": "2024-03-29T17:02:52.019221Z",
     "iopub.status.busy": "2024-03-29T17:02:52.018825Z",
     "iopub.status.idle": "2024-03-29T17:02:52.035674Z",
     "shell.execute_reply": "2024-03-29T17:02:52.034540Z"
    },
    "papermill": {
     "duration": 0.026418,
     "end_time": "2024-03-29T17:02:52.037996",
     "exception": false,
     "start_time": "2024-03-29T17:02:52.011578",
     "status": "completed"
    },
    "tags": []
   },
   "outputs": [
    {
     "data": {
      "text/plain": [
       "averageUserRating\n",
       "4.45240    4\n",
       "4.46985    4\n",
       "4.60690    3\n",
       "4.69271    3\n",
       "4.77588    3\n",
       "          ..\n",
       "4.78972    1\n",
       "4.12120    1\n",
       "4.66944    1\n",
       "4.67717    1\n",
       "4.68007    1\n",
       "Name: count, Length: 1621, dtype: int64"
      ]
     },
     "execution_count": 8,
     "metadata": {},
     "output_type": "execute_result"
    }
   ],
   "source": [
    "avgRating_cleaned = gameset_cleaned[gameset_cleaned['averageUserRating'] != 0]\n",
    "avgRating_cleaned['averageUserRating'].value_counts()"
   ]
  },
  {
   "cell_type": "code",
   "execution_count": 9,
   "id": "35afa9bd",
   "metadata": {
    "execution": {
     "iopub.execute_input": "2024-03-29T17:02:52.050753Z",
     "iopub.status.busy": "2024-03-29T17:02:52.050357Z",
     "iopub.status.idle": "2024-03-29T17:02:52.068155Z",
     "shell.execute_reply": "2024-03-29T17:02:52.066973Z"
    },
    "papermill": {
     "duration": 0.02691,
     "end_time": "2024-03-29T17:02:52.070320",
     "exception": false,
     "start_time": "2024-03-29T17:02:52.043410",
     "status": "completed"
    },
    "tags": []
   },
   "outputs": [
    {
     "data": {
      "text/html": [
       "<div>\n",
       "<style scoped>\n",
       "    .dataframe tbody tr th:only-of-type {\n",
       "        vertical-align: middle;\n",
       "    }\n",
       "\n",
       "    .dataframe tbody tr th {\n",
       "        vertical-align: top;\n",
       "    }\n",
       "\n",
       "    .dataframe thead th {\n",
       "        text-align: right;\n",
       "    }\n",
       "</style>\n",
       "<table border=\"1\" class=\"dataframe\">\n",
       "  <thead>\n",
       "    <tr style=\"text-align: right;\">\n",
       "      <th></th>\n",
       "      <th>artistName</th>\n",
       "      <th>averageUserRating</th>\n",
       "      <th>averageUserRatingForCurrentVersion</th>\n",
       "      <th>contentAdvisoryRating</th>\n",
       "      <th>description</th>\n",
       "      <th>fileSizeBytes</th>\n",
       "      <th>isGameCenterEnabled</th>\n",
       "      <th>minimumOsVersion</th>\n",
       "      <th>price</th>\n",
       "      <th>primaryGenreId</th>\n",
       "      <th>releaseDate</th>\n",
       "      <th>trackName</th>\n",
       "      <th>userRatingCount</th>\n",
       "      <th>releaseNotes</th>\n",
       "    </tr>\n",
       "  </thead>\n",
       "  <tbody>\n",
       "    <tr>\n",
       "      <th>0</th>\n",
       "      <td>Ynfo SAS di Graziano Gennaro &amp; Co.</td>\n",
       "      <td>4.67589</td>\n",
       "      <td>4.67589</td>\n",
       "      <td>4+</td>\n",
       "      <td>Sticker GO! is the first app that helps you co...</td>\n",
       "      <td>36927488</td>\n",
       "      <td>False</td>\n",
       "      <td>12.0</td>\n",
       "      <td>0.0</td>\n",
       "      <td>6014</td>\n",
       "      <td>2024-02-08 08:00:00+00:00</td>\n",
       "      <td>Sticker GO!</td>\n",
       "      <td>253</td>\n",
       "      <td>Performance improvement</td>\n",
       "    </tr>\n",
       "    <tr>\n",
       "      <th>1</th>\n",
       "      <td>Hungry Studio</td>\n",
       "      <td>4.86087</td>\n",
       "      <td>4.86087</td>\n",
       "      <td>12+</td>\n",
       "      <td>Block Blast: A perfect mix of block and jigsaw...</td>\n",
       "      <td>154926080</td>\n",
       "      <td>True</td>\n",
       "      <td>12.0</td>\n",
       "      <td>0.0</td>\n",
       "      <td>6014</td>\n",
       "      <td>2022-04-03 07:00:00+00:00</td>\n",
       "      <td>Block Blast！</td>\n",
       "      <td>253100</td>\n",
       "      <td>- Bug fixes and performance improvements.\\n- S...</td>\n",
       "    </tr>\n",
       "    <tr>\n",
       "      <th>2</th>\n",
       "      <td>Scopely, Inc.</td>\n",
       "      <td>4.81924</td>\n",
       "      <td>4.81924</td>\n",
       "      <td>9+</td>\n",
       "      <td>Hit GO! Roll the dice! Earn MONOPOLY money, in...</td>\n",
       "      <td>249300992</td>\n",
       "      <td>True</td>\n",
       "      <td>13.0</td>\n",
       "      <td>0.0</td>\n",
       "      <td>6014</td>\n",
       "      <td>2023-04-11 07:00:00+00:00</td>\n",
       "      <td>MONOPOLY GO!</td>\n",
       "      <td>2076657</td>\n",
       "      <td>We've got a WILD update for you, Tycoons.\\n\\nG...</td>\n",
       "    </tr>\n",
       "    <tr>\n",
       "      <th>3</th>\n",
       "      <td>ABIGAMES PTE. LTD</td>\n",
       "      <td>4.52683</td>\n",
       "      <td>4.52683</td>\n",
       "      <td>9+</td>\n",
       "      <td>Introducing Wood Nuts &amp; Bolts Puzzle, a captiv...</td>\n",
       "      <td>243209216</td>\n",
       "      <td>False</td>\n",
       "      <td>12.0</td>\n",
       "      <td>0.0</td>\n",
       "      <td>6014</td>\n",
       "      <td>2023-11-22 08:00:00+00:00</td>\n",
       "      <td>Wood Nuts &amp; Bolts Puzzle</td>\n",
       "      <td>54892</td>\n",
       "      <td>- Update levels.</td>\n",
       "    </tr>\n",
       "    <tr>\n",
       "      <th>4</th>\n",
       "      <td>Lion Studios Plus</td>\n",
       "      <td>4.74130</td>\n",
       "      <td>4.74130</td>\n",
       "      <td>12+</td>\n",
       "      <td>Hexa Sort offers a delightful blend of puzzle ...</td>\n",
       "      <td>323801088</td>\n",
       "      <td>False</td>\n",
       "      <td>12.5</td>\n",
       "      <td>0.0</td>\n",
       "      <td>6014</td>\n",
       "      <td>2023-11-01 07:00:00+00:00</td>\n",
       "      <td>Hexa Sort</td>\n",
       "      <td>6150</td>\n",
       "      <td>Get ready! The most awaited features are here....</td>\n",
       "    </tr>\n",
       "  </tbody>\n",
       "</table>\n",
       "</div>"
      ],
      "text/plain": [
       "                           artistName  averageUserRating  \\\n",
       "0  Ynfo SAS di Graziano Gennaro & Co.            4.67589   \n",
       "1                       Hungry Studio            4.86087   \n",
       "2                       Scopely, Inc.            4.81924   \n",
       "3                   ABIGAMES PTE. LTD            4.52683   \n",
       "4                   Lion Studios Plus            4.74130   \n",
       "\n",
       "   averageUserRatingForCurrentVersion contentAdvisoryRating  \\\n",
       "0                             4.67589                    4+   \n",
       "1                             4.86087                   12+   \n",
       "2                             4.81924                    9+   \n",
       "3                             4.52683                    9+   \n",
       "4                             4.74130                   12+   \n",
       "\n",
       "                                         description  fileSizeBytes  \\\n",
       "0  Sticker GO! is the first app that helps you co...       36927488   \n",
       "1  Block Blast: A perfect mix of block and jigsaw...      154926080   \n",
       "2  Hit GO! Roll the dice! Earn MONOPOLY money, in...      249300992   \n",
       "3  Introducing Wood Nuts & Bolts Puzzle, a captiv...      243209216   \n",
       "4  Hexa Sort offers a delightful blend of puzzle ...      323801088   \n",
       "\n",
       "   isGameCenterEnabled minimumOsVersion  price  primaryGenreId  \\\n",
       "0                False             12.0    0.0            6014   \n",
       "1                 True             12.0    0.0            6014   \n",
       "2                 True             13.0    0.0            6014   \n",
       "3                False             12.0    0.0            6014   \n",
       "4                False             12.5    0.0            6014   \n",
       "\n",
       "                releaseDate                 trackName  userRatingCount  \\\n",
       "0 2024-02-08 08:00:00+00:00               Sticker GO!              253   \n",
       "1 2022-04-03 07:00:00+00:00              Block Blast！           253100   \n",
       "2 2023-04-11 07:00:00+00:00              MONOPOLY GO!          2076657   \n",
       "3 2023-11-22 08:00:00+00:00  Wood Nuts & Bolts Puzzle            54892   \n",
       "4 2023-11-01 07:00:00+00:00                 Hexa Sort             6150   \n",
       "\n",
       "                                        releaseNotes  \n",
       "0                            Performance improvement  \n",
       "1  - Bug fixes and performance improvements.\\n- S...  \n",
       "2  We've got a WILD update for you, Tycoons.\\n\\nG...  \n",
       "3                                   - Update levels.  \n",
       "4  Get ready! The most awaited features are here....  "
      ]
     },
     "execution_count": 9,
     "metadata": {},
     "output_type": "execute_result"
    }
   ],
   "source": [
    "avgRating_cleaned.head(5)"
   ]
  },
  {
   "cell_type": "code",
   "execution_count": 10,
   "id": "ea005ef6",
   "metadata": {
    "execution": {
     "iopub.execute_input": "2024-03-29T17:02:52.083787Z",
     "iopub.status.busy": "2024-03-29T17:02:52.083367Z",
     "iopub.status.idle": "2024-03-29T17:02:52.104431Z",
     "shell.execute_reply": "2024-03-29T17:02:52.103218Z"
    },
    "papermill": {
     "duration": 0.030851,
     "end_time": "2024-03-29T17:02:52.106908",
     "exception": false,
     "start_time": "2024-03-29T17:02:52.076057",
     "status": "completed"
    },
    "tags": []
   },
   "outputs": [
    {
     "data": {
      "text/html": [
       "<div>\n",
       "<style scoped>\n",
       "    .dataframe tbody tr th:only-of-type {\n",
       "        vertical-align: middle;\n",
       "    }\n",
       "\n",
       "    .dataframe tbody tr th {\n",
       "        vertical-align: top;\n",
       "    }\n",
       "\n",
       "    .dataframe thead th {\n",
       "        text-align: right;\n",
       "    }\n",
       "</style>\n",
       "<table border=\"1\" class=\"dataframe\">\n",
       "  <thead>\n",
       "    <tr style=\"text-align: right;\">\n",
       "      <th></th>\n",
       "      <th>averageUserRating</th>\n",
       "      <th>releaseDate</th>\n",
       "    </tr>\n",
       "  </thead>\n",
       "  <tbody>\n",
       "    <tr>\n",
       "      <th>251</th>\n",
       "      <td>4.35114</td>\n",
       "      <td>2023-10-04 07:00:00+00:00</td>\n",
       "    </tr>\n",
       "    <tr>\n",
       "      <th>1201</th>\n",
       "      <td>4.72556</td>\n",
       "      <td>2023-12-20 08:00:00+00:00</td>\n",
       "    </tr>\n",
       "    <tr>\n",
       "      <th>86</th>\n",
       "      <td>3.98498</td>\n",
       "      <td>2016-03-25 17:01:46+00:00</td>\n",
       "    </tr>\n",
       "    <tr>\n",
       "      <th>74</th>\n",
       "      <td>3.93103</td>\n",
       "      <td>2023-08-03 07:00:00+00:00</td>\n",
       "    </tr>\n",
       "    <tr>\n",
       "      <th>947</th>\n",
       "      <td>4.66273</td>\n",
       "      <td>2022-01-04 08:00:00+00:00</td>\n",
       "    </tr>\n",
       "    <tr>\n",
       "      <th>645</th>\n",
       "      <td>4.57764</td>\n",
       "      <td>2023-12-01 08:00:00+00:00</td>\n",
       "    </tr>\n",
       "    <tr>\n",
       "      <th>1220</th>\n",
       "      <td>4.73200</td>\n",
       "      <td>2024-01-17 08:00:00+00:00</td>\n",
       "    </tr>\n",
       "    <tr>\n",
       "      <th>158</th>\n",
       "      <td>4.20210</td>\n",
       "      <td>2013-04-08 21:59:13+00:00</td>\n",
       "    </tr>\n",
       "    <tr>\n",
       "      <th>430</th>\n",
       "      <td>4.49726</td>\n",
       "      <td>2018-09-20 19:16:15+00:00</td>\n",
       "    </tr>\n",
       "    <tr>\n",
       "      <th>136</th>\n",
       "      <td>4.14733</td>\n",
       "      <td>2021-03-28 07:00:00+00:00</td>\n",
       "    </tr>\n",
       "  </tbody>\n",
       "</table>\n",
       "</div>"
      ],
      "text/plain": [
       "      averageUserRating               releaseDate\n",
       "251             4.35114 2023-10-04 07:00:00+00:00\n",
       "1201            4.72556 2023-12-20 08:00:00+00:00\n",
       "86              3.98498 2016-03-25 17:01:46+00:00\n",
       "74              3.93103 2023-08-03 07:00:00+00:00\n",
       "947             4.66273 2022-01-04 08:00:00+00:00\n",
       "645             4.57764 2023-12-01 08:00:00+00:00\n",
       "1220            4.73200 2024-01-17 08:00:00+00:00\n",
       "158             4.20210 2013-04-08 21:59:13+00:00\n",
       "430             4.49726 2018-09-20 19:16:15+00:00\n",
       "136             4.14733 2021-03-28 07:00:00+00:00"
      ]
     },
     "execution_count": 10,
     "metadata": {},
     "output_type": "execute_result"
    }
   ],
   "source": [
    "year_trend = avgRating_cleaned.groupby(['averageUserRating'], as_index=False)['releaseDate'].max()\n",
    "year_trend = year_trend.sort_values('releaseDate', ascending=False)\n",
    "year_trend = year_trend.sample(10)\n",
    "year_trend"
   ]
  },
  {
   "cell_type": "code",
   "execution_count": 11,
   "id": "9a8124ee",
   "metadata": {
    "execution": {
     "iopub.execute_input": "2024-03-29T17:02:52.121837Z",
     "iopub.status.busy": "2024-03-29T17:02:52.121158Z",
     "iopub.status.idle": "2024-03-29T17:02:52.127229Z",
     "shell.execute_reply": "2024-03-29T17:02:52.126033Z"
    },
    "papermill": {
     "duration": 0.016326,
     "end_time": "2024-03-29T17:02:52.129631",
     "exception": false,
     "start_time": "2024-03-29T17:02:52.113305",
     "status": "completed"
    },
    "tags": []
   },
   "outputs": [
    {
     "data": {
      "text/plain": [
       "\"year_trend = avgRating_cleaned.groupby(['averageUserRating'], as_index=False)['releaseDate'].max()\\nyear_trend = year_trend.sort_values('releaseDate').sample(100)\\nyear_trend\""
      ]
     },
     "execution_count": 11,
     "metadata": {},
     "output_type": "execute_result"
    }
   ],
   "source": [
    "'''year_trend = avgRating_cleaned.groupby(['averageUserRating'], as_index=False)['releaseDate'].max()\n",
    "year_trend = year_trend.sort_values('releaseDate').sample(100)\n",
    "year_trend'''"
   ]
  },
  {
   "cell_type": "code",
   "execution_count": 12,
   "id": "c9548a5e",
   "metadata": {
    "execution": {
     "iopub.execute_input": "2024-03-29T17:02:52.143758Z",
     "iopub.status.busy": "2024-03-29T17:02:52.143356Z",
     "iopub.status.idle": "2024-03-29T17:02:52.147841Z",
     "shell.execute_reply": "2024-03-29T17:02:52.146918Z"
    },
    "papermill": {
     "duration": 0.014053,
     "end_time": "2024-03-29T17:02:52.149930",
     "exception": false,
     "start_time": "2024-03-29T17:02:52.135877",
     "status": "completed"
    },
    "tags": []
   },
   "outputs": [],
   "source": [
    "#plt.rcParams['figure.figsize'] = (20,5)\n",
    "\n",
    "#plt.plot(\"releaseDate\", \"averageUserRating\", data=year_trend, color ='maroon')\n",
    "#plt.xlabel(\"Year\")\n",
    "#plt.ylabel(\"Rating\")\n",
    "#plt.title(\"Average User Rating Trend Over The Year\")\n",
    "\n",
    "#sns.relplot(x='releaseDate', y='averageUserRating', data=year_trend, kind='line', height=6, aspect=4)"
   ]
  },
  {
   "cell_type": "code",
   "execution_count": 13,
   "id": "98b219f5",
   "metadata": {
    "execution": {
     "iopub.execute_input": "2024-03-29T17:02:52.164479Z",
     "iopub.status.busy": "2024-03-29T17:02:52.163831Z",
     "iopub.status.idle": "2024-03-29T17:02:52.698791Z",
     "shell.execute_reply": "2024-03-29T17:02:52.697568Z"
    },
    "papermill": {
     "duration": 0.545454,
     "end_time": "2024-03-29T17:02:52.701374",
     "exception": false,
     "start_time": "2024-03-29T17:02:52.155920",
     "status": "completed"
    },
    "tags": []
   },
   "outputs": [
    {
     "name": "stderr",
     "output_type": "stream",
     "text": [
      "/opt/conda/lib/python3.10/site-packages/seaborn/_oldcore.py:1119: FutureWarning: use_inf_as_na option is deprecated and will be removed in a future version. Convert inf values to NaN before operating instead.\n",
      "  with pd.option_context('mode.use_inf_as_na', True):\n",
      "/opt/conda/lib/python3.10/site-packages/seaborn/_oldcore.py:1119: FutureWarning: use_inf_as_na option is deprecated and will be removed in a future version. Convert inf values to NaN before operating instead.\n",
      "  with pd.option_context('mode.use_inf_as_na', True):\n"
     ]
    },
    {
     "data": {
      "text/plain": [
       "[Text(0.5, 1.0, 'Average Games Rating Per Year'),\n",
       " Text(0.5, 0, 'Date'),\n",
       " Text(0, 0.5, 'Rate')]"
      ]
     },
     "execution_count": 13,
     "metadata": {},
     "output_type": "execute_result"
    },
    {
     "data": {
      "image/png": "[encoded data removed]",
      "text/plain": [
       "<Figure size 2000x500 with 1 Axes>"
      ]
     },
     "metadata": {},
     "output_type": "display_data"
    }
   ],
   "source": [
    "fig = plt.subplots(figsize=(20, 5))\n",
    "sns.lineplot(x='releaseDate', y='averageUserRating', data=year_trend,\n",
    "             marker='.', markerfacecolor='limegreen', markersize=5).set(title='Average Games Rating Per Year',\n",
    "                                                                        xlabel='Date', ylabel='Rate')"
   ]
  }
 ],
 "metadata": {
  "kaggle": {
   "accelerator": "none",
   "dataSources": [
    {
     "datasetId": 4453623,
     "sourceId": 7641469,
     "sourceType": "datasetVersion"
    }
   ],
   "dockerImageVersionId": 30646,
   "isGpuEnabled": false,
   "isInternetEnabled": true,
   "language": "python",
   "sourceType": "notebook"
  },
  "kernelspec": {
   "display_name": "Python 3",
   "language": "python",
   "name": "python3"
  },
  "language_info": {
   "codemirror_mode": {
    "name": "ipython",
    "version": 3
   },
   "file_extension": ".py",
   "mimetype": "text/x-python",
   "name": "python",
   "nbconvert_exporter": "python",
   "pygments_lexer": "ipython3",
   "version": "3.10.13"
  },
  "papermill": {
   "default_parameters": {},
   "duration": 7.339413,
   "end_time": "2024-03-29T17:02:53.334678",
   "environment_variables": {},
   "exception": null,
   "input_path": "__notebook__.ipynb",
   "output_path": "__notebook__.ipynb",
   "parameters": {},
   "start_time": "2024-03-29T17:02:45.995265",
   "version": "2.5.0"
  }
 },
 "nbformat": 4,
 "nbformat_minor": 5
}
